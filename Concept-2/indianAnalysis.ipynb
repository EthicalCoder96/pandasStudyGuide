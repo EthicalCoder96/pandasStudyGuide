{
 "cells": [
  {
   "cell_type": "markdown",
   "metadata": {},
   "source": [
    "# **Indian Population Data Analysis**\n",
    "##### **Author Name :** Sohal Dhavale\n",
    "##### **Email :** sohaldhavale0m35@gmail.com"
   ]
  },
  {
   "cell_type": "markdown",
   "metadata": {},
   "source": [
    "> ### importing all libraries"
   ]
  },
  {
   "cell_type": "code",
   "execution_count": 94,
   "metadata": {},
   "outputs": [],
   "source": [
    "import pandas as pd \n",
    "import numpy as np  \n",
    "import matplotlib.pyplot as plt \n",
    "import seaborn as sns "
   ]
  },
  {
   "cell_type": "markdown",
   "metadata": {},
   "source": [
    "> ### loading Dataset in a variable"
   ]
  },
  {
   "cell_type": "code",
   "execution_count": 95,
   "metadata": {},
   "outputs": [],
   "source": [
    "df = pd.read_csv('india-districts-census-2011.csv')"
   ]
  },
  {
   "cell_type": "code",
   "execution_count": 96,
   "metadata": {},
   "outputs": [
    {
     "data": {
      "text/plain": [
       "Index(['District code', 'State name', 'District name', 'Population', 'Male',\n",
       "       'Female', 'Literate', 'Male_Literate', 'Female_Literate', 'SC',\n",
       "       ...\n",
       "       'Power_Parity_Rs_90000_150000', 'Power_Parity_Rs_45000_150000',\n",
       "       'Power_Parity_Rs_150000_240000', 'Power_Parity_Rs_240000_330000',\n",
       "       'Power_Parity_Rs_150000_330000', 'Power_Parity_Rs_330000_425000',\n",
       "       'Power_Parity_Rs_425000_545000', 'Power_Parity_Rs_330000_545000',\n",
       "       'Power_Parity_Above_Rs_545000', 'Total_Power_Parity'],\n",
       "      dtype='object', length=118)"
      ]
     },
     "execution_count": 96,
     "metadata": {},
     "output_type": "execute_result"
    }
   ],
   "source": [
    "df.columns"
   ]
  },
  {
   "cell_type": "markdown",
   "metadata": {},
   "source": [
    "> ### **Q.1] What is the total population in the dataset?**"
   ]
  },
  {
   "cell_type": "code",
   "execution_count": 97,
   "metadata": {},
   "outputs": [
    {
     "name": "stdout",
     "output_type": "stream",
     "text": [
      "Total population in this dataset is 1210854977.\n"
     ]
    }
   ],
   "source": [
    "total_Population = df['Population'].sum()\n",
    "print(f\"Total population in this dataset is {total_Population}.\")"
   ]
  },
  {
   "cell_type": "markdown",
   "metadata": {},
   "source": [
    "> ### **Q.2] Which state has the highest population?**"
   ]
  },
  {
   "cell_type": "code",
   "execution_count": 98,
   "metadata": {},
   "outputs": [
    {
     "data": {
      "text/plain": [
       "State name\n",
       "UTTAR PRADESH    199812341\n",
       "Name: Population, dtype: int64"
      ]
     },
     "execution_count": 98,
     "metadata": {},
     "output_type": "execute_result"
    }
   ],
   "source": [
    "State_high_population = df.groupby('State name')['Population'].sum().sort_values(ascending=False)\n",
    "State_high_population.head(1)"
   ]
  },
  {
   "cell_type": "code",
   "execution_count": 99,
   "metadata": {},
   "outputs": [
    {
     "data": {
      "text/plain": [
       "'UTTAR PRADESH'"
      ]
     },
     "execution_count": 99,
     "metadata": {},
     "output_type": "execute_result"
    }
   ],
   "source": [
    "State_high_population = df.groupby('State name')['Population'].sum().nlargest(1)\n",
    "State_high_population.idxmax()"
   ]
  },
  {
   "cell_type": "code",
   "execution_count": 100,
   "metadata": {},
   "outputs": [
    {
     "data": {
      "text/plain": [
       "'UTTAR PRADESH'"
      ]
     },
     "execution_count": 100,
     "metadata": {},
     "output_type": "execute_result"
    }
   ],
   "source": [
    "State_high_population = df.groupby('State name')['Population'].sum()\n",
    "highest_population_state = State_high_population.idxmax()\n",
    "highest_population = State_high_population.max()\n",
    "# highest_population_state : name of state having maximum population\n",
    "# State_high_population : All rows having sum of population\n",
    "# highest_population : Number\n",
    "highest_population_state"
   ]
  },
  {
   "cell_type": "markdown",
   "metadata": {},
   "source": [
    "\n",
    "idxmax() is a Pandas function that returns the index of the maximum value in a Series. In this context, we're using it to find the index (which is the state name) where the population is the highest.\n",
    "\n",
    "Here's how it works:\n",
    "\n",
    "df.groupby('State name')['Population'].sum() groups the DataFrame by state name and calculates the sum of the population for each state.\n",
    "idxmax() is then applied to this Series, returning the index (state name) where the population is maximum.\n",
    "So, using idxmax() helps us directly retrieve the state name with the highest population without having to sort the values explicitly or iterate through the Series."
   ]
  },
  {
   "cell_type": "markdown",
   "metadata": {},
   "source": [
    "> ### **Q.3] How many districts are there in each state?**"
   ]
  },
  {
   "cell_type": "code",
   "execution_count": 101,
   "metadata": {},
   "outputs": [
    {
     "data": {
      "text/plain": [
       "State name\n",
       "UTTAR PRADESH     71\n",
       "MADHYA PRADESH    50\n",
       "BIHAR             38\n",
       "MAHARASHTRA       35\n",
       "RAJASTHAN         33\n",
       "TAMIL NADU        32\n",
       "ORISSA            30\n",
       "KARNATAKA         30\n",
       "ASSAM             27\n",
       "GUJARAT           26\n",
       "Name: District name, dtype: int64"
      ]
     },
     "execution_count": 101,
     "metadata": {},
     "output_type": "execute_result"
    }
   ],
   "source": [
    "df.groupby('State name')['District name'].count().sort_values(ascending=False).head(10)"
   ]
  },
  {
   "cell_type": "markdown",
   "metadata": {},
   "source": [
    "> ### **Q.4] What is the average literacy rate across all districts?**"
   ]
  },
  {
   "cell_type": "code",
   "execution_count": 102,
   "metadata": {},
   "outputs": [
    {
     "data": {
      "text/plain": [
       "1193185.64375"
      ]
     },
     "execution_count": 102,
     "metadata": {},
     "output_type": "execute_result"
    }
   ],
   "source": [
    "df['Literate'].mean()"
   ]
  },
  {
   "cell_type": "code",
   "execution_count": 103,
   "metadata": {},
   "outputs": [
    {
     "data": {
      "text/plain": [
       "District name\n",
       "Thane                         8227161.0\n",
       "North Twenty Four Parganas    7608693.0\n",
       "Mumbai Suburban               7575485.0\n",
       "Bangalore                     7512276.0\n",
       "Pune                          7171723.0\n",
       "South Twenty Four Parganas    5531657.0\n",
       "Ahmadabad                     5435760.0\n",
       "Barddhaman                    5247208.0\n",
       "Surat                         4571410.0\n",
       "Nashik                        4345366.0\n",
       "Jaipur                        4300965.0\n",
       "Paschim Medinipur             4078412.0\n",
       "Hugli                         4078388.0\n",
       "Murshidabad                   4055834.0\n",
       "Purba Medinipur               3923194.0\n",
       "Chennai                       3776276.0\n",
       "Nagpur                        3673808.0\n",
       "Allahabad                     3665727.0\n",
       "Haora                         3605206.0\n",
       "Kolkata                       3588137.0\n",
       "Name: Literate, dtype: float64"
      ]
     },
     "execution_count": 103,
     "metadata": {},
     "output_type": "execute_result"
    }
   ],
   "source": [
    "df.groupby('District name')['Literate'].mean().sort_values(ascending=False).head(20)"
   ]
  },
  {
   "cell_type": "markdown",
   "metadata": {},
   "source": [
    "> ### **Q.5] Which district has the highest number of literate females?**"
   ]
  },
  {
   "cell_type": "code",
   "execution_count": 104,
   "metadata": {},
   "outputs": [
    {
     "data": {
      "text/plain": [
       "'Thane'"
      ]
     },
     "execution_count": 104,
     "metadata": {},
     "output_type": "execute_result"
    }
   ],
   "source": [
    "max_female_literate_row = df[df['Female_Literate'] == df['Female_Literate'].max()]\n",
    "# max_female_literate_row\n",
    "district_with_max_female_literate = max_female_literate_row['District name'].iloc[0]\n",
    "district_with_max_female_literate"
   ]
  },
  {
   "cell_type": "markdown",
   "metadata": {},
   "source": [
    "> ### **Q.6] What is the percentage of SC population in each district?**"
   ]
  },
  {
   "cell_type": "code",
   "execution_count": 105,
   "metadata": {},
   "outputs": [
    {
     "data": {
      "text/plain": [
       "State name        District name             \n",
       "WEST BENGAL       Koch Bihar                    50.170020\n",
       "PUNJAB            Shahid Bhagat Singh Nagar     42.508533\n",
       "                  Muktsar                       42.305765\n",
       "                  Firozpur                      42.173228\n",
       "                  Jalandhar                     38.951855\n",
       "                  Faridkot                      38.919010\n",
       "WEST BENGAL       Jalpaiguri                    37.653911\n",
       "RAJASTHAN         Ganganagar                    36.584588\n",
       "PUNJAB            Moga                          36.496958\n",
       "                  Hoshiarpur                    35.137729\n",
       "UTTAR PRADESH     Kaushambi                     34.721080\n",
       "TAMIL NADU        Thiruvarur                    34.084856\n",
       "PUNJAB            Kapurthala                    33.944782\n",
       "                  Tarn Taran                    33.713728\n",
       "                  Mansa                         33.631395\n",
       "JHARKHAND         Chatra                        32.654864\n",
       "WEST BENGAL       Bankura                       32.653696\n",
       "PUNJAB            Bathinda                      32.442556\n",
       "UTTAR PRADESH     Sitapur                       32.257573\n",
       "PUNJAB            Barnala                       32.240520\n",
       "TAMIL NADU        The Nilgiris                  32.075051\n",
       "PUNJAB            Fatehgarh Sahib               32.073453\n",
       "TAMIL NADU        Nagapattinam                  31.536206\n",
       "UTTAR PRADESH     Hardoi                        31.139831\n",
       "TAMIL NADU        Perambalur                    31.012361\n",
       "PUNJAB            Amritsar                      30.950240\n",
       "UTTAR PRADESH     Unnao                         30.517246\n",
       "BIHAR             Gaya                          30.385424\n",
       "HIMACHAL PRADESH  Sirmaur                       30.337545\n",
       "KARNATAKA         Kolar                         30.321967\n",
       "UTTAR PRADESH     Rae Bareli                    30.255444\n",
       "WEST BENGAL       South Twenty Four Parganas    30.189216\n",
       "HARYANA           Fatehabad                     30.186166\n",
       "dtype: float64"
      ]
     },
     "execution_count": 105,
     "metadata": {},
     "output_type": "execute_result"
    }
   ],
   "source": [
    "percentage_SC_per_district = (df.groupby(['State name','District name'])['SC'].sum() / df.groupby(['State name','District name'])['Population'].sum()) * (100)\n",
    "percentage_SC_per_district[percentage_SC_per_district>30.0].sort_values(ascending=False)"
   ]
  },
  {
   "cell_type": "markdown",
   "metadata": {},
   "source": [
    "> ### **Q.7] How many districts have a SC population greater than 40%?**"
   ]
  },
  {
   "cell_type": "code",
   "execution_count": 106,
   "metadata": {},
   "outputs": [
    {
     "data": {
      "text/plain": [
       "4"
      ]
     },
     "execution_count": 106,
     "metadata": {},
     "output_type": "execute_result"
    }
   ],
   "source": [
    "percentage_SC_per_district = (df.groupby(['State name','District name'])['SC'].sum() / df.groupby(['State name','District name'])['Population'].sum()) * (100)\n",
    "len(percentage_SC_per_district[percentage_SC_per_district>40.0])"
   ]
  },
  {
   "cell_type": "markdown",
   "metadata": {},
   "source": [
    "> ### **Q.8] What is the average number of workers in rural areas?**"
   ]
  },
  {
   "cell_type": "code",
   "execution_count": 107,
   "metadata": {},
   "outputs": [
    {
     "data": {
      "text/plain": [
       "2.183497008467497"
      ]
     },
     "execution_count": 107,
     "metadata": {},
     "output_type": "execute_result"
    }
   ],
   "source": [
    "# Rural_Households\n",
    "# Workers\n",
    "df['Workers'].sum()/df['Rural_Households'].sum()"
   ]
  },
  {
   "cell_type": "markdown",
   "metadata": {},
   "source": [
    "> ### **Q.9] Which state has the highest proportion of workers in urban areas?**"
   ]
  },
  {
   "cell_type": "code",
   "execution_count": 108,
   "metadata": {},
   "outputs": [
    {
     "data": {
      "text/plain": [
       "'MAHARASHTRA'"
      ]
     },
     "execution_count": 108,
     "metadata": {},
     "output_type": "execute_result"
    }
   ],
   "source": [
    "# Urban_Households\n",
    "StathighProportion = df[df['Urban_Households']==df['Urban_Households'].max()]\n",
    "StathighProportion['State name'].iloc[0]"
   ]
  },
  {
   "cell_type": "markdown",
   "metadata": {},
   "source": [
    "> ### **Q.10] How many households have internet access?**"
   ]
  },
  {
   "cell_type": "code",
   "execution_count": 109,
   "metadata": {},
   "outputs": [
    {
     "data": {
      "text/plain": [
       "7708521"
      ]
     },
     "execution_count": 109,
     "metadata": {},
     "output_type": "execute_result"
    }
   ],
   "source": [
    "df['Households_with_Internet'].sum()"
   ]
  },
  {
   "cell_type": "code",
   "execution_count": 111,
   "metadata": {},
   "outputs": [
    {
     "data": {
      "text/plain": [
       "State name\n",
       "MAHARASHTRA                    1379351\n",
       "TAMIL NADU                      772257\n",
       "KARNATAKA                       638468\n",
       "UTTAR PRADESH                   609773\n",
       "NCT OF DELHI                    588951\n",
       "ANDHRA PRADESH                  549284\n",
       "KERALA                          483609\n",
       "WEST BENGAL                     443642\n",
       "GUJARAT                         381622\n",
       "PUNJAB                          292111\n",
       "HARYANA                         248076\n",
       "RAJASTHAN                       226501\n",
       "MADHYA PRADESH                  212473\n",
       "BIHAR                           165521\n",
       "ORISSA                          135393\n",
       "ASSAM                           100173\n",
       "JHARKHAND                        91074\n",
       "CHHATTISGARH                     67820\n",
       "UTTARAKHAND                      63032\n",
       "JAMMU AND KASHMIR                57977\n",
       "CHANDIGARH                       44283\n",
       "HIMACHAL PRADESH                 41193\n",
       "GOA                              41064\n",
       "PONDICHERRY                      18086\n",
       "MANIPUR                          10886\n",
       "TRIPURA                           8612\n",
       "MEGHALAYA                         8079\n",
       "NAGALAND                          6935\n",
       "MIZORAM                           5605\n",
       "ARUNACHAL PRADESH                 5128\n",
       "SIKKIM                            4284\n",
       "ANDAMAN AND NICOBAR ISLANDS       3234\n",
       "DADRA AND NAGAR HAVELI            2013\n",
       "DAMAN AND DIU                     1684\n",
       "LAKSHADWEEP                        327\n",
       "Name: Households_with_Internet, dtype: int64"
      ]
     },
     "execution_count": 111,
     "metadata": {},
     "output_type": "execute_result"
    }
   ],
   "source": [
    "df.groupby('State name')['Households_with_Internet'].sum().sort_values(ascending=False)"
   ]
  },
  {
   "cell_type": "markdown",
   "metadata": {},
   "source": [
    "> ### **Q.11. What is the average household size in rural areas?**"
   ]
  },
  {
   "cell_type": "code",
   "execution_count": 112,
   "metadata": {},
   "outputs": [
    {
     "data": {
      "text/plain": [
       "344837.365625"
      ]
     },
     "execution_count": 112,
     "metadata": {},
     "output_type": "execute_result"
    }
   ],
   "source": [
    "df['Rural_Households'].mean()"
   ]
  },
  {
   "cell_type": "code",
   "execution_count": null,
   "metadata": {},
   "outputs": [],
   "source": [
    "df.isnull().sum()"
   ]
  },
  {
   "cell_type": "markdown",
   "metadata": {},
   "source": [
    "> ### **Q.12. How many households have a computer but no internet access?**"
   ]
  },
  {
   "cell_type": "code",
   "execution_count": 115,
   "metadata": {},
   "outputs": [
    {
     "data": {
      "text/plain": [
       "15654325"
      ]
     },
     "execution_count": 115,
     "metadata": {},
     "output_type": "execute_result"
    }
   ],
   "source": [
    "# Households_with_Computer\n",
    "# Households_with_Internet\n",
    "abs((df['Households_with_Computer'].sum())-(df['Households_with_Internet'].sum()))"
   ]
  },
  {
   "cell_type": "markdown",
   "metadata": {},
   "source": [
    "> ### **Q.13. What is the average number of household members in each age group?**"
   ]
  },
  {
   "cell_type": "code",
   "execution_count": 120,
   "metadata": {},
   "outputs": [],
   "source": [
    "# Age_Group_0_29\n",
    "# Age_Group_30_49\n",
    "# Age_Group_50\n",
    "# Households\n",
    "formatted = df[['Age_Group_0_29','Age_Group_30_49','Age_Group_50']].mean()"
   ]
  },
  {
   "cell_type": "code",
   "execution_count": 128,
   "metadata": {},
   "outputs": [
    {
     "data": {
      "text/plain": [
       "Age_Group_0_29     1.102826e+06\n",
       "Age_Group_30_49    4.820189e+05\n",
       "Age_Group_50       3.001005e+05\n",
       "dtype: float64"
      ]
     },
     "execution_count": 128,
     "metadata": {},
     "output_type": "execute_result"
    }
   ],
   "source": [
    "df[['Age_Group_0_29','Age_Group_30_49','Age_Group_50']].mean()"
   ]
  },
  {
   "cell_type": "markdown",
   "metadata": {},
   "source": [
    "> ### **Q.14. Which religion has the highest representation in the dataset?**"
   ]
  },
  {
   "cell_type": "code",
   "execution_count": 131,
   "metadata": {},
   "outputs": [
    {
     "data": {
      "text/plain": [
       "Hindus              966257353\n",
       "Muslims             172245158\n",
       "Christians           27819588\n",
       "Sikhs                20833116\n",
       "Buddhists             8442972\n",
       "Others_Religions      7937734\n",
       "Jains                 4451753\n",
       "dtype: int64"
      ]
     },
     "execution_count": 131,
     "metadata": {},
     "output_type": "execute_result"
    }
   ],
   "source": [
    "'''\n",
    "Hindus\tMuslims\tChristians\tSikhs\tBuddhists\tJains\tOthers_Religions\n",
    "'''\n",
    "column = ['Hindus','Muslims','Christians','Sikhs','Buddhists','Jains','Others_Religions']\n",
    "df[column].sum().sort_values(ascending=False)"
   ]
  },
  {
   "cell_type": "markdown",
   "metadata": {},
   "source": [
    "> ### **Q.15. How many districts have a majority Hindu population?**"
   ]
  },
  {
   "cell_type": "code",
   "execution_count": 133,
   "metadata": {},
   "outputs": [
    {
     "name": "stdout",
     "output_type": "stream",
     "text": [
      "States where the majority of districts have a Hindu population:\n",
      "['JAMMU AND KASHMIR' 'HIMACHAL PRADESH' 'PUNJAB' 'CHANDIGARH'\n",
      " 'UTTARAKHAND' 'HARYANA' 'NCT OF DELHI' 'RAJASTHAN' 'UTTAR PRADESH'\n",
      " 'BIHAR' 'SIKKIM' 'ARUNACHAL PRADESH' 'MANIPUR' 'TRIPURA' 'ASSAM'\n",
      " 'WEST BENGAL' 'JHARKHAND' 'ORISSA' 'CHHATTISGARH' 'MADHYA PRADESH'\n",
      " 'GUJARAT' 'DAMAN AND DIU' 'DADRA AND NAGAR HAVELI' 'MAHARASHTRA'\n",
      " 'ANDHRA PRADESH' 'KARNATAKA' 'GOA' 'KERALA' 'TAMIL NADU' 'PONDICHERRY'\n",
      " 'ANDAMAN AND NICOBAR ISLANDS']\n"
     ]
    }
   ],
   "source": [
    "# Determine the religion with the highest representation in each district\n",
    "dominant_religion_per_district = df[['Hindus', 'Muslims', 'Christians', 'Sikhs', 'Buddhists', 'Jains', 'Others_Religions', 'Religion_Not_Stated']].idxmax(axis=1)\n",
    "\n",
    "# Filter the DataFrame to include only the districts where Hindus constitute the majority religion\n",
    "hindu_majority_districts = df[dominant_religion_per_district == 'Hindus']\n",
    "\n",
    "# Determine the unique states from these districts\n",
    "states_with_hindu_majority_districts = hindu_majority_districts['State name'].unique()\n",
    "\n",
    "print(\"States where the majority of districts have a Hindu population:\")\n",
    "print(states_with_hindu_majority_districts)\n"
   ]
  }
 ],
 "metadata": {
  "kernelspec": {
   "display_name": "Python 3",
   "language": "python",
   "name": "python3"
  },
  "language_info": {
   "codemirror_mode": {
    "name": "ipython",
    "version": 3
   },
   "file_extension": ".py",
   "mimetype": "text/x-python",
   "name": "python",
   "nbconvert_exporter": "python",
   "pygments_lexer": "ipython3",
   "version": "3.10.8"
  }
 },
 "nbformat": 4,
 "nbformat_minor": 2
}
